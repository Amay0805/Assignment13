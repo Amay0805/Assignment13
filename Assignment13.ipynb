{
 "cells": [
  {
   "cell_type": "code",
   "execution_count": 11,
   "id": "dca7aa56-18dc-45c1-adf9-bc377277d9d8",
   "metadata": {},
   "outputs": [
    {
     "name": "stdout",
     "output_type": "stream",
     "text": [
      "4\n"
     ]
    }
   ],
   "source": [
    "#1\n",
    "#Problem 1.Given an array of n numbers, give an algorithm\n",
    "#which gives the element appearing maximumnumber of times?\n",
    "\n",
    "def max_count(arr):\n",
    "    max=0\n",
    "    for i in arr:\n",
    "        count_i=0\n",
    "        for j in arr:\n",
    "            if i==j:\n",
    "                count_i+=1\n",
    "        if count_i>max:\n",
    "            max=count_i\n",
    "    return max\n",
    "print(max_count([1,2,3,1,2,3,4,5,3,2,7,9,7,3,4,5]))"
   ]
  },
  {
   "cell_type": "code",
   "execution_count": 3,
   "id": "e45775ba-5d44-4f7b-8331-25ee154d91fb",
   "metadata": {},
   "outputs": [
    {
     "name": "stdout",
     "output_type": "stream",
     "text": [
      "9.0\n"
     ]
    }
   ],
   "source": [
    "#2\n",
    "# Problem 2 : We are given a list of n-1 integers and these integers are in the range of 1 to n . There are no\n",
    "# duplicates in the list. One of the integers is missing in the list. Give an algorithm to find that element Ex:\n",
    "# [1,2,4,6,3,7,8] 5 is the missing num.\n",
    "\n",
    "def find_absent_element(arr):\n",
    "    n=len(arr)+1\n",
    "    sum_formula=n*(n+1)/2\n",
    "    sum=0\n",
    "    for i in arr:\n",
    "        sum+=i\n",
    "    if sum_formula>sum:\n",
    "        return sum_formula-sum\n",
    "    \n",
    "print(find_absent_element([1,2,3,4,5,6,7,8]))"
   ]
  },
  {
   "cell_type": "code",
   "execution_count": 4,
   "id": "ccebc701-0c37-4a60-99bd-daa61f49d7ec",
   "metadata": {},
   "outputs": [
    {
     "name": "stdout",
     "output_type": "stream",
     "text": [
      "[(45, 45), (56, 34)]\n"
     ]
    }
   ],
   "source": [
    "#4\n",
    "#Problem 4 : Given an array of n elements. Find two elements\n",
    "#in the array such that their sum is equal to given element K.\n",
    "def search_2(arr, k):\n",
    "    pairs = []\n",
    "    for i in range(len(arr)):\n",
    "        for j in range(i + 1, len(arr)):\n",
    "            if arr[i] + arr[j] == k:\n",
    "                pairs.append((arr[i], arr[j]))\n",
    "    return pairs\n",
    "\n",
    "\n",
    "print(search_2([-45,90,405,23,45,5,4,3,45,4,5,323,54,56,35,16,91,34,64],90))"
   ]
  },
  {
   "cell_type": "code",
   "execution_count": 5,
   "id": "b2516822-633a-46ae-9af5-33db8056aa98",
   "metadata": {},
   "outputs": [
    {
     "name": "stdout",
     "output_type": "stream",
     "text": [
      "2\n"
     ]
    }
   ],
   "source": [
    "#5\n",
    "# Problem 5 : Given an array of both positive and negative numbers, find two numbers\n",
    "# such that their sum is closest to 0. Ex: [ 1 ,60 ,-10, 70, -80,85]. Ans : -80,85.\n",
    "def closest_to_zero(array):\n",
    "    min = float('inf')\n",
    "    for i in range(len(array)):\n",
    "        for j in range(i,len(array)):\n",
    "            sum=abs(array[i] + array[j])\n",
    "            if sum<min:\n",
    "                min=sum\n",
    "    return min\n",
    "\n",
    "print(closest_to_zero([-98,100,5,-9,74,-54]))"
   ]
  },
  {
   "cell_type": "code",
   "execution_count": 6,
   "id": "f61cac25-e701-4ea7-bc26-b4352a89e080",
   "metadata": {},
   "outputs": [
    {
     "name": "stdout",
     "output_type": "stream",
     "text": [
      "[(-45, 35, 64), (-45, 45, 54), (3, 16, 35), (4, 5, 45), (4, 16, 34)]\n"
     ]
    }
   ],
   "source": [
    "# #6\n",
    "# Given an array of n elements . Find three elements\n",
    "# such that their sum is equal to the given number.\n",
    "def search_3(arr,l):\n",
    "    lst=sorted(arr)\n",
    "    l1=[]\n",
    "    for i in range(len(lst)):\n",
    "        for j in range(i+1,len(lst)):\n",
    "            for k in range(j+1,len(lst)):\n",
    "                if lst[i] + lst[j] + lst[k] == l :\n",
    "                    l1.append((lst[i], lst[j], lst[k]))\n",
    "    return l1\n",
    "\n",
    "print(search_3([-45,90,23,45,5,4,3,323,54,56,35,16,91,34,64],54))"
   ]
  },
  {
   "cell_type": "code",
   "execution_count": 7,
   "id": "8bf89967-ee50-4d15-9fa4-4bdc6a8cddbe",
   "metadata": {},
   "outputs": [
    {
     "name": "stdout",
     "output_type": "stream",
     "text": [
      "[(3, 4, 5), (7, 24, 25), (15, 20, 25)]\n"
     ]
    }
   ],
   "source": [
    "#7\n",
    "# Problem 7 : Given an array of n elements . Find three elements \n",
    "# i, j, k in the array such that i * i + j * j = k*k.\n",
    "def find_triplet(list):\n",
    "    arr=sorted(list)\n",
    "    l=[]\n",
    "    for i in range(1,len(arr)):\n",
    "        for j in range(i,len(arr)):\n",
    "            for k in range(j,len(arr)):\n",
    "                if arr[i]**2 + arr[j]**2 == arr[k]**2:\n",
    "                    l.append((arr[i],arr[j],arr[k]))\n",
    "    return l\n",
    "print(find_triplet([1,2,3,4,5,6,7,24,25,26,20,15]))"
   ]
  },
  {
   "cell_type": "code",
   "execution_count": 8,
   "id": "ea5724e1-7ecf-4a36-baef-51b66fb16b2b",
   "metadata": {},
   "outputs": [
    {
     "name": "stdout",
     "output_type": "stream",
     "text": [
      "5\n"
     ]
    }
   ],
   "source": [
    "#8\n",
    "# Problem 8 : An element is a majority if it appears more than n/2 times.\n",
    "# Give an algorithm takes an array of n element as argument and identifies\n",
    "# a majority (if it exists).\n",
    "\n",
    "# Here I have also made use of Boyer-Moore Voting Algorithm for finding the\n",
    "# majority element\n",
    "def maj_ele_in_arr(arr):\n",
    "    vote = 0\n",
    "    maj_ele = None\n",
    "    for i in range(len(arr)):\n",
    "        if vote == 0:\n",
    "            maj_ele = arr[i]\n",
    "            vote = 1\n",
    "        else:\n",
    "            if arr[i] == maj_ele:\n",
    "                vote += 1\n",
    "            else:\n",
    "                vote -= 1\n",
    "    count = 0\n",
    "    for j in range(len(arr)):\n",
    "        if arr[j] == maj_ele:\n",
    "            count += 1\n",
    "    \n",
    "    if count > len(arr)//2:\n",
    "        return count  # Return the count of the majority element\n",
    "    else:\n",
    "        return \"No majority element found\"\n",
    "\n",
    "arr = [3, 3, 4, 2, 4, 4, 2, 4, 4]\n",
    "print(maj_ele_in_arr(arr))\n"
   ]
  },
  {
   "cell_type": "code",
   "execution_count": 9,
   "id": "a16d3421-7352-40eb-b7e2-4739d7245651",
   "metadata": {},
   "outputs": [
    {
     "name": "stdout",
     "output_type": "stream",
     "text": [
      "2\n"
     ]
    }
   ],
   "source": [
    "#9\n",
    "# Problem 9 : Given n × n matrix, and in each row all 1’s are \n",
    "# followed by 0’s. Find the row with the maximum number of 0’s.\n",
    "\n",
    "def max_0_rows(matrix):\n",
    "    max_count_0=0\n",
    "    index=-1\n",
    "    for i in range(len(matrix)):\n",
    "        count_0=0\n",
    "        for x in matrix[i]:\n",
    "            if x == 0:\n",
    "                count_0+=1\n",
    "        if count_0 > max_count_0:\n",
    "            max_count_0 = count_0\n",
    "            index = i\n",
    "    return index\n",
    "\n",
    "print(max_0_rows([[0,1,0], [1,0,0], [0,0,0]]))"
   ]
  },
  {
   "cell_type": "code",
   "execution_count": 10,
   "id": "e124cce4-5140-4982-87cf-087272ca3c1b",
   "metadata": {},
   "outputs": [
    {
     "name": "stdout",
     "output_type": "stream",
     "text": [
      "[0, 0, 0, 0, 1, 1, 1, 1, 2, 2, 2]\n"
     ]
    }
   ],
   "source": [
    "#10\n",
    "# Problem 10 : Sort an array of 0’s, 1’s and 2’s [or R’s, G’s and B’s]: Given an \n",
    "# array A[] consisting of 0’s, 1’s and2’s, give an algorithm for sorting A[].The \n",
    "# algorithm should put all 0’s first, then all 1’s and finally all 2’s at the end.\n",
    "# Example Input = {0,1,1,0,1,2,1,2,0,0,0,1}, Output = {0,0,0,0,0,1,1,1,1,1,2,2}\n",
    "\n",
    "def sort012(arr):\n",
    "    low = 0\n",
    "    mid = 0\n",
    "    high = len(arr)-1\n",
    "\n",
    "    while mid<high:\n",
    "        if arr[mid] == 0:\n",
    "            arr[low], arr[mid] = arr[mid], arr[low]\n",
    "            low += 1\n",
    "            mid += 1\n",
    "        elif arr[mid] == 1:\n",
    "            mid += 1\n",
    "        else:\n",
    "            arr[mid], arr[high] = arr[high], arr[mid]\n",
    "            high -= 1\n",
    "    return arr\n",
    "\n",
    "print(sort012([0,2,0,1,1,2,0,1,0,1,2]))"
   ]
  }
 ],
 "metadata": {
  "kernelspec": {
   "display_name": "Python 3 (ipykernel)",
   "language": "python",
   "name": "python3"
  },
  "language_info": {
   "codemirror_mode": {
    "name": "ipython",
    "version": 3
   },
   "file_extension": ".py",
   "mimetype": "text/x-python",
   "name": "python",
   "nbconvert_exporter": "python",
   "pygments_lexer": "ipython3",
   "version": "3.10.8"
  }
 },
 "nbformat": 4,
 "nbformat_minor": 5
}
